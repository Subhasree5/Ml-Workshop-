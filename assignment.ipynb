{
  "nbformat": 4,
  "nbformat_minor": 0,
  "metadata": {
    "colab": {
      "provenance": [],
      "authorship_tag": "ABX9TyO5Po2Xhlc+1X+xyqMPbyY4",
      "include_colab_link": true
    },
    "kernelspec": {
      "name": "python3",
      "display_name": "Python 3"
    },
    "language_info": {
      "name": "python"
    }
  },
  "cells": [
    {
      "cell_type": "markdown",
      "metadata": {
        "id": "view-in-github",
        "colab_type": "text"
      },
      "source": [
        "<a href=\"https://colab.research.google.com/github/Subhasree5/Ml-Workshop-/blob/main/assignment.ipynb\" target=\"_parent\"><img src=\"https://colab.research.google.com/assets/colab-badge.svg\" alt=\"Open In Colab\"/></a>"
      ]
    },
    {
      "cell_type": "code",
      "execution_count": null,
      "metadata": {
        "colab": {
          "base_uri": "https://localhost:8080/"
        },
        "id": "lPtOKDxrl3Os",
        "outputId": "ef1ac4c6-21fd-4783-bc60-4900a7e39ed0"
      },
      "outputs": [
        {
          "output_type": "stream",
          "name": "stdout",
          "text": [
            "[5 7 9] [-3 -3 -3] [ 4 10 18] [0.25 0.4  0.5 ]\n"
          ]
        }
      ],
      "source": [
        "#1. Perform arithmetic operations on NumPy arrays.\n",
        "import numpy as np\n",
        "a= np.array([1, 2, 3])\n",
        "b= np.array([4, 5, 6])\n",
        "add=np.add(a,b)\n",
        "sub=np.subtract(a,b)\n",
        "mul=np.multiply(a,b)\n",
        "div=np.divide(a,b)\n",
        "print(add,sub,mul,div)"
      ]
    },
    {
      "cell_type": "code",
      "source": [
        "#2.Write a script to compute the mean and standard deviation of a NumPy array.\n",
        "a=np.array([1,2,3,4,5])\n",
        "print(np.mean(a),np.std(a))"
      ],
      "metadata": {
        "colab": {
          "base_uri": "https://localhost:8080/"
        },
        "id": "miwcRWjzujzM",
        "outputId": "31259df5-d085-4fc6-dd2b-4996a2fab197"
      },
      "execution_count": null,
      "outputs": [
        {
          "output_type": "stream",
          "name": "stdout",
          "text": [
            "3.0 1.4142135623730951\n"
          ]
        }
      ]
    },
    {
      "cell_type": "code",
      "source": [
        "#3. Create a NumPy array of integers from 10 to 50 with a step size of 5.\n",
        "arr=np.arange(10,51,5)\n",
        "print(arr)"
      ],
      "metadata": {
        "colab": {
          "base_uri": "https://localhost:8080/"
        },
        "id": "CqlNFKs1vSvL",
        "outputId": "054d30f3-7a85-48ad-828c-130866cbe96a"
      },
      "execution_count": null,
      "outputs": [
        {
          "output_type": "stream",
          "name": "stdout",
          "text": [
            "[10 15 20 25 30 35 40 45 50]\n"
          ]
        }
      ]
    },
    {
      "cell_type": "code",
      "source": [
        "#4. Reshape the array into a 2x4 matrix.\n",
        "a=np.array(([10,20,30],[1,2,3]))\n",
        "print(a.reshape(3,2))"
      ],
      "metadata": {
        "colab": {
          "base_uri": "https://localhost:8080/"
        },
        "id": "J6eEW8BWv2sn",
        "outputId": "6c000bb7-e963-48cd-d180-935fc959f4b1"
      },
      "execution_count": null,
      "outputs": [
        {
          "output_type": "stream",
          "name": "stdout",
          "text": [
            "[[10 20]\n",
            " [30  1]\n",
            " [ 2  3]]\n"
          ]
        }
      ]
    },
    {
      "cell_type": "code",
      "source": [
        "#5. Given the array arr = np.array([[1, 2, 3], [4, 5, 6], [7, 8, 9]]):\n",
        "arr=np.array([[1,2,3],[4,5,6],[7,8,9]])\n",
        "#Extract the sub-matrix containing the last two rows and first two columns.\n",
        "sub=arr[1:, :2]\n",
        "print(sub)\n",
        "#Replace all elements greater than 4 with 0.\n",
        "arr[arr>4]=0\n",
        "print(arr)"
      ],
      "metadata": {
        "id": "GL7O8AmExlwS",
        "colab": {
          "base_uri": "https://localhost:8080/"
        },
        "outputId": "db79f3a9-2b3f-49a9-d72a-ee96f0532059"
      },
      "execution_count": null,
      "outputs": [
        {
          "output_type": "stream",
          "name": "stdout",
          "text": [
            "[[4 5]\n",
            " [7 8]]\n",
            "[[1 2 3]\n",
            " [4 0 0]\n",
            " [0 0 0]]\n"
          ]
        }
      ]
    },
    {
      "cell_type": "code",
      "source": [
        "#Perform element-wise addition, multiplication, and division.\n",
        "a = np.array([1, 2, 3])\n",
        "b = np.array([4, 5, 6])\n",
        "add=a+b\n",
        "sub=a-b\n",
        "mul=a*b\n",
        "div=a/b\n",
        "print(add,sub,mul,div)"
      ],
      "metadata": {
        "colab": {
          "base_uri": "https://localhost:8080/"
        },
        "id": "ZjDQz7nOzgVI",
        "outputId": "83174bd8-4b30-4068-ae9c-8991135ccb57"
      },
      "execution_count": null,
      "outputs": [
        {
          "output_type": "stream",
          "name": "stdout",
          "text": [
            "[5 7 9] [-3 -3 -3] [ 4 10 18] [0.25 0.4  0.5 ]\n"
          ]
        }
      ]
    },
    {
      "cell_type": "code",
      "source": [
        "#7. Create a random NumPy array of size (4, 4):\n",
        "a=np.random.rand(4,4)\n",
        "print(a)\n",
        "#Mean of each column.\n",
        "mean=np.mean(a,axis=0)\n",
        "#Maximum value of the entire array.\n",
        "max=np.max(a)\n",
        "#Sum of all elements.\n",
        "sum=np.sum(a)\n",
        "print (mean,max,sum)"
      ],
      "metadata": {
        "colab": {
          "base_uri": "https://localhost:8080/"
        },
        "id": "EqIdkOrf1QlO",
        "outputId": "3f827417-4e12-4d95-fb54-2e39a7bc3a37"
      },
      "execution_count": null,
      "outputs": [
        {
          "output_type": "stream",
          "name": "stdout",
          "text": [
            "[[0.48047289 0.44085311 0.46228326 0.2883809 ]\n",
            " [0.89775252 0.27753908 0.97944452 0.05455268]\n",
            " [0.7977551  0.20732953 0.0650736  0.16748971]\n",
            " [0.605873   0.09943065 0.31256009 0.37834856]]\n",
            "[0.69546338 0.25628809 0.45484037 0.22219296] 0.9794445214513425 6.515139195057623\n"
          ]
        }
      ]
    },
    {
      "cell_type": "code",
      "source": [
        "#add 10 to each element and multiply the result by 2.\n",
        "arr = np.array([1, 2, 3, 4])\n",
        "result=(arr+10)*2\n",
        "print (result)"
      ],
      "metadata": {
        "colab": {
          "base_uri": "https://localhost:8080/"
        },
        "id": "EmaHAQsn3ueF",
        "outputId": "3ace8f8d-95e5-4ba6-b417-8f1c530ab67d"
      },
      "execution_count": null,
      "outputs": [
        {
          "output_type": "stream",
          "name": "stdout",
          "text": [
            "[22 24 26 28]\n"
          ]
        }
      ]
    },
    {
      "cell_type": "code",
      "source": [
        "#10. Work with broadcasting and advanced operations in NumPy.\n",
        "import numpy as np\n",
        "arr = np.random.randint(1, 21, size=(3, 3))\n",
        "# Subtract the mean of each row from its respective elements\n",
        "row_means = np.mean(arr, axis=1, keepdims=True)\n",
        "normalized_arr = arr - row_means\n",
        "print(\"Normalized array:\", normalized_arr)\n",
        "\n",
        "# Create a new array by squaring all the elements\n",
        "squared_arr = arr ** 2\n",
        "print(\"Squared array:\", squared_arr)\n",
        "\n",
        "# Find the indices of the top 3 maximum values\n",
        "flat_arr = arr.flatten()\n",
        "top_3_indices = np.argpartition(flat_arr, -3)[-3:]\n",
        "print(\"Indices of top 3 maximum values:\", top_3_indices)"
      ],
      "metadata": {
        "colab": {
          "base_uri": "https://localhost:8080/"
        },
        "id": "HOIiZqE9YERu",
        "outputId": "ba2a90fd-69c6-4777-b351-3d1355cc7e63"
      },
      "execution_count": null,
      "outputs": [
        {
          "output_type": "stream",
          "name": "stdout",
          "text": [
            "Normalized array: [[  1.   4.  -5.]\n",
            " [  2. -10.   8.]\n",
            " [  6.   0.  -6.]]\n",
            "Squared array: [[121 196  25]\n",
            " [169   1 361]\n",
            " [196  64   4]]\n",
            "Indices of top 3 maximum values: [6 1 5]\n"
          ]
        }
      ]
    }
  ]
}