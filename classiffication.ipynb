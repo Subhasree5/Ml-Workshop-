{
  "nbformat": 4,
  "nbformat_minor": 0,
  "metadata": {
    "colab": {
      "provenance": [],
      "authorship_tag": "ABX9TyP0qwmMBiqR96kXGplWT4KX",
      "include_colab_link": true
    },
    "kernelspec": {
      "name": "python3",
      "display_name": "Python 3"
    },
    "language_info": {
      "name": "python"
    }
  },
  "cells": [
    {
      "cell_type": "markdown",
      "metadata": {
        "id": "view-in-github",
        "colab_type": "text"
      },
      "source": [
        "<a href=\"https://colab.research.google.com/github/Subhasree5/Ml-Workshop-/blob/main/classiffication.ipynb\" target=\"_parent\"><img src=\"https://colab.research.google.com/assets/colab-badge.svg\" alt=\"Open In Colab\"/></a>"
      ]
    },
    {
      "cell_type": "markdown",
      "source": [
        "Import Libraries"
      ],
      "metadata": {
        "id": "HL-_60hRwVog"
      }
    },
    {
      "cell_type": "code",
      "source": [
        "# Import necessary libraries\n",
        "import pandas as pd\n",
        "import numpy as np\n",
        "from sklearn.model_selection import train_test_split\n",
        "from sklearn.preprocessing import LabelEncoder, StandardScaler\n",
        "from sklearn.metrics import accuracy_score, precision_score, recall_score, f1_score, classification_report\n",
        "from sklearn.linear_model import LogisticRegression\n",
        "from sklearn.naive_bayes import GaussianNB\n",
        "from sklearn.neighbors import KNeighborsClassifier\n",
        "from sklearn.tree import DecisionTreeClassifier\n",
        "from sklearn.svm import SVC"
      ],
      "metadata": {
        "id": "ts-s5XhHwZ_X"
      },
      "execution_count": 15,
      "outputs": []
    },
    {
      "cell_type": "markdown",
      "source": [
        "Load dataset"
      ],
      "metadata": {
        "id": "XsLpkw5Hwl6I"
      }
    },
    {
      "cell_type": "code",
      "source": [
        "penguins = pd.read_csv('/content/penguins_size.csv')"
      ],
      "metadata": {
        "id": "6CGFp8nhwpYb"
      },
      "execution_count": 16,
      "outputs": []
    },
    {
      "cell_type": "markdown",
      "source": [
        "Drop misssing values"
      ],
      "metadata": {
        "id": "pNbQfIn2w9xL"
      }
    },
    {
      "cell_type": "code",
      "source": [
        "penguins.dropna(inplace=True)"
      ],
      "metadata": {
        "id": "fp_58_8Uw0v2"
      },
      "execution_count": 23,
      "outputs": []
    },
    {
      "cell_type": "code",
      "source": [
        "penguins.isnull().sum()"
      ],
      "metadata": {
        "id": "TsLldd9mxKYv",
        "outputId": "7d93f51d-ecf0-4eec-9456-39b2e6b7c542",
        "colab": {
          "base_uri": "https://localhost:8080/",
          "height": 303
        }
      },
      "execution_count": 24,
      "outputs": [
        {
          "output_type": "execute_result",
          "data": {
            "text/plain": [
              "species              0\n",
              "island               0\n",
              "culmen_length_mm     0\n",
              "culmen_depth_mm      0\n",
              "flipper_length_mm    0\n",
              "body_mass_g          0\n",
              "sex                  0\n",
              "dtype: int64"
            ],
            "text/html": [
              "<div>\n",
              "<style scoped>\n",
              "    .dataframe tbody tr th:only-of-type {\n",
              "        vertical-align: middle;\n",
              "    }\n",
              "\n",
              "    .dataframe tbody tr th {\n",
              "        vertical-align: top;\n",
              "    }\n",
              "\n",
              "    .dataframe thead th {\n",
              "        text-align: right;\n",
              "    }\n",
              "</style>\n",
              "<table border=\"1\" class=\"dataframe\">\n",
              "  <thead>\n",
              "    <tr style=\"text-align: right;\">\n",
              "      <th></th>\n",
              "      <th>0</th>\n",
              "    </tr>\n",
              "  </thead>\n",
              "  <tbody>\n",
              "    <tr>\n",
              "      <th>species</th>\n",
              "      <td>0</td>\n",
              "    </tr>\n",
              "    <tr>\n",
              "      <th>island</th>\n",
              "      <td>0</td>\n",
              "    </tr>\n",
              "    <tr>\n",
              "      <th>culmen_length_mm</th>\n",
              "      <td>0</td>\n",
              "    </tr>\n",
              "    <tr>\n",
              "      <th>culmen_depth_mm</th>\n",
              "      <td>0</td>\n",
              "    </tr>\n",
              "    <tr>\n",
              "      <th>flipper_length_mm</th>\n",
              "      <td>0</td>\n",
              "    </tr>\n",
              "    <tr>\n",
              "      <th>body_mass_g</th>\n",
              "      <td>0</td>\n",
              "    </tr>\n",
              "    <tr>\n",
              "      <th>sex</th>\n",
              "      <td>0</td>\n",
              "    </tr>\n",
              "  </tbody>\n",
              "</table>\n",
              "</div><br><label><b>dtype:</b> int64</label>"
            ]
          },
          "metadata": {},
          "execution_count": 24
        }
      ]
    },
    {
      "cell_type": "code",
      "source": [
        "label_encoders = {}\n",
        "for column in ['species', 'sex', 'island']:\n",
        "    le = LabelEncoder()\n",
        "    # Fix: Use penguins[column] to select the column and apply dropna() to it\n",
        "    penguins[column] = le.fit_transform(penguins[column].dropna())\n",
        "    label_encoders[column] = le"
      ],
      "metadata": {
        "id": "IlecYW4YyxHu"
      },
      "execution_count": 26,
      "outputs": []
    },
    {
      "cell_type": "markdown",
      "source": [
        "split the dataset\n"
      ],
      "metadata": {
        "id": "VoNHXg_R0Iso"
      }
    },
    {
      "cell_type": "code",
      "source": [
        "X = penguins.drop(columns=['species']) # Use square brackets to select the 'species' column as a DataFrame.\n",
        "y = penguins['species']\n",
        "\n",
        "# Split the dataset into training and testing sets\n",
        "X_train, X_test, y_train, y_test = train_test_split(X, y, test_size=0.3, random_state=42, stratify=y)\n"
      ],
      "metadata": {
        "id": "VqbbVLAry7QR"
      },
      "execution_count": 31,
      "outputs": []
    },
    {
      "cell_type": "markdown",
      "source": [
        "Standardize numerical features"
      ],
      "metadata": {
        "id": "R1W-MVf10f4f"
      }
    },
    {
      "cell_type": "code",
      "source": [
        "scaler = StandardScaler()\n",
        "X_train = scaler.fit_transform(X_train)\n",
        "X_test = scaler.transform(X_test)"
      ],
      "metadata": {
        "id": "7NtRlKlu0LRU"
      },
      "execution_count": 33,
      "outputs": []
    },
    {
      "cell_type": "markdown",
      "source": [
        "Function to train and evaluate a model"
      ],
      "metadata": {
        "id": "elTkwyQ30t0q"
      }
    },
    {
      "cell_type": "code",
      "source": [
        "def evaluate_model(model, X_train, X_test, y_train, y_test):\n",
        "    model.fit(X_train, y_train)\n",
        "    y_pred = model.predict(X_test)\n",
        "    metrics = {\n",
        "        'Accuracy': accuracy_score(y_test, y_pred),\n",
        "        'Precision': precision_score(y_test, y_pred, average='weighted'),\n",
        "        'Recall': recall_score(y_test, y_pred, average='weighted'),\n",
        "        'F1-Score': f1_score(y_test, y_pred, average='weighted')\n",
        "    }\n",
        "    return metrics, classification_report(y_test, y_pred, target_names=label_encoders['species'].classes_)"
      ],
      "metadata": {
        "id": "VC14pKV60mfI"
      },
      "execution_count": 34,
      "outputs": []
    },
    {
      "cell_type": "markdown",
      "source": [
        "Models"
      ],
      "metadata": {
        "id": "n77NN-ug07yK"
      }
    },
    {
      "cell_type": "code",
      "source": [
        "models = {\n",
        "    \"Logistic Regression\": LogisticRegression(max_iter=200),\n",
        "    \"Naïve Bayes\": GaussianNB(),\n",
        "    \"KNN\": KNeighborsClassifier(n_neighbors=5),\n",
        "    \"Decision Tree\": DecisionTreeClassifier(random_state=42),\n",
        "    \"Support Vector Classifier\": SVC(kernel='linear', random_state=42)\n",
        "}"
      ],
      "metadata": {
        "id": "Zx5mzMeC00Ru"
      },
      "execution_count": 35,
      "outputs": []
    },
    {
      "cell_type": "markdown",
      "source": [
        "train and evaluate each model"
      ],
      "metadata": {
        "id": "RqVXSNdi1Ege"
      }
    },
    {
      "cell_type": "code",
      "source": [
        "results = {}\n",
        "for name, model in models.items():\n",
        "    metrics, report = evaluate_model(model, X_train, X_test, y_train, y_test)\n",
        "    results[name] = (metrics, report)\n",
        "\n",
        "# Display results\n",
        "for name, (metrics, report) in results.items():\n",
        "    print(f\"\\n{name} Performance Metrics:\")\n",
        "    for metric, value in metrics.items():\n",
        "        print(f\"{metric}: {value:.2f}\")\n",
        "    print(\"\\nClassification Report:\\n\", report)"
      ],
      "metadata": {
        "id": "6gN6ma6l09qI",
        "outputId": "3e39cb8c-3f15-4059-ae99-20bb25b8bbd5",
        "colab": {
          "base_uri": "https://localhost:8080/"
        }
      },
      "execution_count": 36,
      "outputs": [
        {
          "output_type": "stream",
          "name": "stdout",
          "text": [
            "\n",
            "Logistic Regression Performance Metrics:\n",
            "Accuracy: 1.00\n",
            "Precision: 1.00\n",
            "Recall: 1.00\n",
            "F1-Score: 1.00\n",
            "\n",
            "Classification Report:\n",
            "               precision    recall  f1-score   support\n",
            "\n",
            "      Adelie       1.00      1.00      1.00        44\n",
            "   Chinstrap       1.00      1.00      1.00        21\n",
            "      Gentoo       1.00      1.00      1.00        36\n",
            "\n",
            "    accuracy                           1.00       101\n",
            "   macro avg       1.00      1.00      1.00       101\n",
            "weighted avg       1.00      1.00      1.00       101\n",
            "\n",
            "\n",
            "Naïve Bayes Performance Metrics:\n",
            "Accuracy: 0.85\n",
            "Precision: 0.91\n",
            "Recall: 0.85\n",
            "F1-Score: 0.85\n",
            "\n",
            "Classification Report:\n",
            "               precision    recall  f1-score   support\n",
            "\n",
            "      Adelie       1.00      0.66      0.79        44\n",
            "   Chinstrap       0.60      1.00      0.75        21\n",
            "      Gentoo       0.97      1.00      0.99        36\n",
            "\n",
            "    accuracy                           0.85       101\n",
            "   macro avg       0.86      0.89      0.84       101\n",
            "weighted avg       0.91      0.85      0.85       101\n",
            "\n",
            "\n",
            "KNN Performance Metrics:\n",
            "Accuracy: 1.00\n",
            "Precision: 1.00\n",
            "Recall: 1.00\n",
            "F1-Score: 1.00\n",
            "\n",
            "Classification Report:\n",
            "               precision    recall  f1-score   support\n",
            "\n",
            "      Adelie       1.00      1.00      1.00        44\n",
            "   Chinstrap       1.00      1.00      1.00        21\n",
            "      Gentoo       1.00      1.00      1.00        36\n",
            "\n",
            "    accuracy                           1.00       101\n",
            "   macro avg       1.00      1.00      1.00       101\n",
            "weighted avg       1.00      1.00      1.00       101\n",
            "\n",
            "\n",
            "Decision Tree Performance Metrics:\n",
            "Accuracy: 0.98\n",
            "Precision: 0.98\n",
            "Recall: 0.98\n",
            "F1-Score: 0.98\n",
            "\n",
            "Classification Report:\n",
            "               precision    recall  f1-score   support\n",
            "\n",
            "      Adelie       0.96      1.00      0.98        44\n",
            "   Chinstrap       1.00      1.00      1.00        21\n",
            "      Gentoo       1.00      0.94      0.97        36\n",
            "\n",
            "    accuracy                           0.98       101\n",
            "   macro avg       0.99      0.98      0.98       101\n",
            "weighted avg       0.98      0.98      0.98       101\n",
            "\n",
            "\n",
            "Support Vector Classifier Performance Metrics:\n",
            "Accuracy: 1.00\n",
            "Precision: 1.00\n",
            "Recall: 1.00\n",
            "F1-Score: 1.00\n",
            "\n",
            "Classification Report:\n",
            "               precision    recall  f1-score   support\n",
            "\n",
            "      Adelie       1.00      1.00      1.00        44\n",
            "   Chinstrap       1.00      1.00      1.00        21\n",
            "      Gentoo       1.00      1.00      1.00        36\n",
            "\n",
            "    accuracy                           1.00       101\n",
            "   macro avg       1.00      1.00      1.00       101\n",
            "weighted avg       1.00      1.00      1.00       101\n",
            "\n"
          ]
        }
      ]
    }
  ]
}