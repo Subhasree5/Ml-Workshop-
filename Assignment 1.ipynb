{
  "nbformat": 4,
  "nbformat_minor": 0,
  "metadata": {
    "colab": {
      "provenance": [],
      "authorship_tag": "ABX9TyOXvNYvwupLCD5cB09wIAtS",
      "include_colab_link": true
    },
    "kernelspec": {
      "name": "python3",
      "display_name": "Python 3"
    },
    "language_info": {
      "name": "python"
    }
  },
  "cells": [
    {
      "cell_type": "markdown",
      "metadata": {
        "id": "view-in-github",
        "colab_type": "text"
      },
      "source": [
        "<a href=\"https://colab.research.google.com/github/Subhasree5/Ml-Workshop-/blob/main/Assignment%201.ipynb\" target=\"_parent\"><img src=\"https://colab.research.google.com/assets/colab-badge.svg\" alt=\"Open In Colab\"/></a>"
      ]
    },
    {
      "cell_type": "markdown",
      "source": [
        "Perform arithmetic operations on NumPy arrays."
      ],
      "metadata": {
        "id": "Fs9dLCN0Y6qY"
      }
    },
    {
      "cell_type": "code",
      "source": [
        "import numpy as np\n",
        "a= np.array([1, 2, 3])\n",
        "b= np.array([4, 5, 6])\n",
        "addition = np.add(a,b)\n",
        "subtraction = np.subtract(a,b)\n",
        "multiplication = np.multiply(a,b)\n",
        "divide=np.divide(a,b)\n",
        "print(addition, subtraction, multiplication, divide)"
      ],
      "metadata": {
        "colab": {
          "base_uri": "https://localhost:8080/"
        },
        "id": "soFsDVbrZDmC",
        "outputId": "821ae8e1-eba6-40e9-fd88-d43befd088dd"
      },
      "execution_count": 2,
      "outputs": [
        {
          "output_type": "stream",
          "name": "stdout",
          "text": [
            "[5 7 9] [-3 -3 -3] [ 4 10 18] [0.25 0.4  0.5 ]\n"
          ]
        }
      ]
    },
    {
      "cell_type": "markdown",
      "source": [
        "Write a script to compute the mean and standard deviation of a NumPy array."
      ],
      "metadata": {
        "id": "SQD0_O9uaHgV"
      }
    },
    {
      "cell_type": "code",
      "source": [
        "a = np.array([1, 2, 3, 4, 5])\n",
        "\n",
        "mean = np.mean(a)\n",
        "sd = np.std(a)\n",
        "\n",
        "print(\"Mean:\", mean)\n",
        "print(\"Standard Deviation:\", sd)"
      ],
      "metadata": {
        "colab": {
          "base_uri": "https://localhost:8080/"
        },
        "id": "qqNV2X9PaVdd",
        "outputId": "a05cfa13-6e4c-4e5a-d1c8-526e2cbae121"
      },
      "execution_count": 3,
      "outputs": [
        {
          "output_type": "stream",
          "name": "stdout",
          "text": [
            "Mean: 3.0\n",
            "Standard Deviation: 1.4142135623730951\n"
          ]
        }
      ]
    },
    {
      "cell_type": "markdown",
      "source": [
        "Create a NumPy array of integers from 10 to 50 with a step size of 5."
      ],
      "metadata": {
        "id": "EDykfIpiajTi"
      }
    },
    {
      "cell_type": "code",
      "source": [
        "a=np.arange(10,51,5)\n",
        "print (a)"
      ],
      "metadata": {
        "colab": {
          "base_uri": "https://localhost:8080/"
        },
        "id": "F_dmfeHRanN8",
        "outputId": "71ae6f9f-8ca1-4c20-fe36-c73cdadc9908"
      },
      "execution_count": 4,
      "outputs": [
        {
          "output_type": "stream",
          "name": "stdout",
          "text": [
            "[10 15 20 25 30 35 40 45 50]\n"
          ]
        }
      ]
    },
    {
      "cell_type": "markdown",
      "source": [
        "Reshape the array into a 2x4 matrix"
      ],
      "metadata": {
        "id": "BeQxtfBZawVR"
      }
    },
    {
      "cell_type": "code",
      "source": [
        "a =np.array([1, 2, 3, 4, 5, 6, 7, 8])\n",
        "reshaped_array = a.reshape(2, 4)\n",
        "print(\"Reshaped Array:\", reshaped_array)"
      ],
      "metadata": {
        "id": "gEXi-PuKa1k8",
        "outputId": "13a915f3-5007-457a-c835-987b3b5f931e",
        "colab": {
          "base_uri": "https://localhost:8080/"
        }
      },
      "execution_count": 6,
      "outputs": [
        {
          "output_type": "stream",
          "name": "stdout",
          "text": [
            "Reshaped Array: [[1 2 3 4]\n",
            " [5 6 7 8]]\n"
          ]
        }
      ]
    },
    {
      "cell_type": "markdown",
      "source": [
        "Given the array arr = np.array([[1, 2, 3], [4, 5, 6], [7, 8, 9]]):\n",
        "• Extract the sub-matrix containing the last two rows and first two columns.\n",
        "• Replace all elements greater than 4 with 0."
      ],
      "metadata": {
        "id": "GDjKCCPHb2n7"
      }
    },
    {
      "cell_type": "code",
      "source": [
        "a = np.array([[1, 2, 3], [4, 5, 6], [7, 8, 9]])\n",
        "sub_matrix = a[1:3, 0:2]\n",
        "a[a > 4] = 0\n",
        "print(\"last two rows and first two columns:\")\n",
        "print(sub_matrix)\n",
        "print(\"replaced array:\")\n",
        "print(a)"
      ],
      "metadata": {
        "id": "nLUMLDLjb7G0",
        "outputId": "63cdec47-52ef-411e-ec6f-62ee568bfdfc",
        "colab": {
          "base_uri": "https://localhost:8080/"
        }
      },
      "execution_count": 7,
      "outputs": [
        {
          "output_type": "stream",
          "name": "stdout",
          "text": [
            "last two rows and first two columns:\n",
            "[[4 0]\n",
            " [0 0]]\n",
            "replaced array:\n",
            "[[1 2 3]\n",
            " [4 0 0]\n",
            " [0 0 0]]\n"
          ]
        }
      ]
    },
    {
      "cell_type": "markdown",
      "source": [
        "Create a random NumPy array of size (4, 4). Compute:\n",
        "• Mean of each column.\n",
        "• Maximum value of the entire array.\n",
        "• Sum of all elements."
      ],
      "metadata": {
        "id": "ZKt0_i0CcPyH"
      }
    },
    {
      "cell_type": "code",
      "source": [
        "arr = np.random.rand(4, 4)\n",
        "column_means = np.mean(arr, axis=0)\n",
        "max_value = np.max(arr)\n",
        "sum_of_elements = np.sum(arr)\n",
        "print(\"Mean of each column:\", column_means)\n",
        "print(\"Maximum value:\", max_value)\n",
        "print(\"Sum of all elements:\", sum_of_elements)"
      ],
      "metadata": {
        "id": "0KtETDYwcYlD",
        "outputId": "7677e7c0-aba4-488b-bd76-ff8dbd14f55d",
        "colab": {
          "base_uri": "https://localhost:8080/"
        }
      },
      "execution_count": 8,
      "outputs": [
        {
          "output_type": "stream",
          "name": "stdout",
          "text": [
            "Mean of each column: [0.47272774 0.55913614 0.59464481 0.35523012]\n",
            "Maximum value: 0.9915127301761522\n",
            "Sum of all elements: 7.926955274110938\n"
          ]
        }
      ]
    },
    {
      "cell_type": "markdown",
      "source": [
        "Create two 1D arrays:\n",
        "• a = np.array([1, 2, 3])\n",
        "• b = np.array([4, 5, 6])\n",
        "• Perform element-wise addition, multiplication, and division."
      ],
      "metadata": {
        "id": "o8weL1o6cy6c"
      }
    },
    {
      "cell_type": "code",
      "source": [
        "a = np.array([1, 2, 3])\n",
        "b = np.array([4, 5, 6])\n",
        "print(np.add(a, b))\n",
        "print(np.subtract(a, b))\n",
        "print(np.multiply(a, b))\n",
        "print(np.divide(a, b))"
      ],
      "metadata": {
        "id": "jdiuHVtQc5r2",
        "outputId": "e481d22a-c885-47ec-e27a-63f0a3fba213",
        "colab": {
          "base_uri": "https://localhost:8080/"
        }
      },
      "execution_count": 9,
      "outputs": [
        {
          "output_type": "stream",
          "name": "stdout",
          "text": [
            "[5 7 9]\n",
            "[-3 -3 -3]\n",
            "[ 4 10 18]\n",
            "[0.25 0.4  0.5 ]\n"
          ]
        }
      ]
    },
    {
      "cell_type": "markdown",
      "source": [
        "Given the array arr = np.array([1, 2, 3, 4]), add 10 to each element and multiply\n",
        "the result by 2."
      ],
      "metadata": {
        "id": "8NZH1dQndU8g"
      }
    },
    {
      "cell_type": "code",
      "source": [
        "arr = np.array([1, 2, 3, 4])\n",
        "result=(arr+10)*2\n",
        "print(result)"
      ],
      "metadata": {
        "id": "__xTaXYsddhB",
        "outputId": "556bb6e3-8626-49de-8b6a-426a13373162",
        "colab": {
          "base_uri": "https://localhost:8080/"
        }
      },
      "execution_count": 10,
      "outputs": [
        {
          "output_type": "stream",
          "name": "stdout",
          "text": [
            "[22 24 26 28]\n"
          ]
        }
      ]
    },
    {
      "cell_type": "markdown",
      "source": [
        "Perform advanced slicing and indexing on a 3D array.\n",
        "Create a 3D NumPy array arr of shape (3, 4, 5) with random integers ranging from\n",
        "1 to 100. Perform the following:\n",
        "• Extract the second \"layer\" (i.e., the second 2D array) in the first dimension.\n",
        "• Extract the first two rows and the last three columns from each \"layer.\"\n",
        "• Replace all elements divisible by 3 with -1."
      ],
      "metadata": {
        "id": "BmZjDXbEd1J2"
      }
    },
    {
      "cell_type": "code",
      "source": [
        "arr = np.random.randint(1, 101, (3, 4, 5))\n",
        "print(\"Original 3D Array:\\n\", arr)\n",
        "second_layer = arr[1]\n",
        "print(\"\\n2D Array from First Dimension\", second_layer)\n",
        "b= arr[:, :2, -3:]\n",
        "print(\"\\nFirst Two Rows and Last Three Columns from Each Layer:\\n\",b)\n",
        "arr[arr % 3 == 0] = -1\n",
        "print(\"\\nArray After Replacing :\\n\", arr)"
      ],
      "metadata": {
        "id": "mTL9aUQgd7C6",
        "outputId": "670d3302-4763-4a0c-d9d2-b1069dc0bbb0",
        "colab": {
          "base_uri": "https://localhost:8080/"
        }
      },
      "execution_count": 11,
      "outputs": [
        {
          "output_type": "stream",
          "name": "stdout",
          "text": [
            "Original 3D Array:\n",
            " [[[68 33 58 90 76]\n",
            "  [33 82 33 37 27]\n",
            "  [10 23 18  6 86]\n",
            "  [64 80  9 22 46]]\n",
            "\n",
            " [[99 33 86 59 13]\n",
            "  [62 31 48 24 88]\n",
            "  [27 46 43 31 25]\n",
            "  [28 21 32 25 92]]\n",
            "\n",
            " [[ 5 98 86 39 19]\n",
            "  [27 32 31 91 76]\n",
            "  [98  8  5 37 93]\n",
            "  [95  2 36 96  2]]]\n",
            "\n",
            "2D Array from First Dimension [[99 33 86 59 13]\n",
            " [62 31 48 24 88]\n",
            " [27 46 43 31 25]\n",
            " [28 21 32 25 92]]\n",
            "\n",
            "First Two Rows and Last Three Columns from Each Layer:\n",
            " [[[58 90 76]\n",
            "  [33 37 27]]\n",
            "\n",
            " [[86 59 13]\n",
            "  [48 24 88]]\n",
            "\n",
            " [[86 39 19]\n",
            "  [31 91 76]]]\n",
            "\n",
            "Array After Replacing :\n",
            " [[[68 -1 58 -1 76]\n",
            "  [-1 82 -1 37 -1]\n",
            "  [10 23 -1 -1 86]\n",
            "  [64 80 -1 22 46]]\n",
            "\n",
            " [[-1 -1 86 59 13]\n",
            "  [62 31 -1 -1 88]\n",
            "  [-1 46 43 31 25]\n",
            "  [28 -1 32 25 92]]\n",
            "\n",
            " [[ 5 98 86 -1 19]\n",
            "  [-1 32 31 91 76]\n",
            "  [98  8  5 37 -1]\n",
            "  [95  2 -1 -1  2]]]\n"
          ]
        }
      ]
    }
  ]
}